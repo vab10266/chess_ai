{
 "cells": [
  {
   "cell_type": "code",
   "execution_count": 1,
   "metadata": {},
   "outputs": [],
   "source": [
    "import chess\n",
    "from opening_tree import VaudOpeningSystem\n",
    "from agent import RandomAgent, VaudOpenAgent\n",
    "from utils import *\n",
    "from eval import score_board, negamax_score, negamax_alpha_beta, check_first, negamax_score_r, get_color, get_random_moves\n",
    "import tensorflow as tf\n",
    "from gym import Gym\n",
    "import numpy as np\n",
    "import pandas as pd"
   ]
  },
  {
   "cell_type": "code",
   "execution_count": 2,
   "metadata": {},
   "outputs": [],
   "source": [
    "import datetime"
   ]
  },
  {
   "cell_type": "code",
   "execution_count": 3,
   "metadata": {},
   "outputs": [
    {
     "name": "stdout",
     "output_type": "stream",
     "text": [
      "0 7:44:10\n"
     ]
    }
   ],
   "source": [
    "time_taken = (9*60 + 17) * 50\n",
    "days = time_taken // (60*60*24)\n",
    "hours = (time_taken % (60*60*24)) // (60*60)\n",
    "minutes = (time_taken % (60*60)) // 60\n",
    "seconds = time_taken % 60\n",
    "print(f\"{days} {hours}:{minutes}:{seconds}\")"
   ]
  },
  {
   "cell_type": "code",
   "execution_count": null,
   "metadata": {},
   "outputs": [
    {
     "name": "stdout",
     "output_type": "stream",
     "text": [
      "------------------------------------------------------------\n",
      "10:04:58, 10:05:03\n",
      "------------------------------------------------------------\n",
      "depth: 0, <agent.RandomAgent object at 0x000001EDFD69F9B0>: 0 wins\n",
      "depth: 0, <agent.RandomAgent object at 0x000001EDFD69F9B0>: 1 wins\n",
      "------------------------------------------------------------\n",
      "10:05:05, 10:09:48\n",
      "------------------------------------------------------------\n",
      "depth: 0, <agent.RandomAgent object at 0x000001EDFD69F9B0>: 0 wins\n",
      "depth: 1, <agent.VaudOpenAgent object at 0x000001ED9F0BA240>: 97 wins\n",
      "------------------------------------------------------------\n",
      "10:09:50, 10:14:41\n",
      "------------------------------------------------------------\n",
      "depth: 0, <agent.RandomAgent object at 0x000001EDFD69F9B0>: 0 wins\n",
      "depth: 2, <agent.VaudOpenAgent object at 0x000001ED9FD63E00>: 93 wins\n",
      "------------------------------------------------------------\n",
      "10:14:42, 10:19:21\n",
      "------------------------------------------------------------\n",
      "depth: 0, <agent.RandomAgent object at 0x000001EDFD69F9B0>: 0 wins\n",
      "depth: 3, <agent.VaudOpenAgent object at 0x000001ED9F684770>: 96 wins\n",
      "------------------------------------------------------------\n",
      "10:19:22, 10:23:47\n",
      "------------------------------------------------------------\n",
      "depth: 0, <agent.RandomAgent object at 0x000001EDFD69F9B0>: 0 wins\n",
      "depth: 4, <agent.VaudOpenAgent object at 0x000001ED9FDA7140>: 94 wins\n",
      "------------------------------------------------------------\n",
      "10:23:48, 10:28:14\n",
      "------------------------------------------------------------\n",
      "depth: 0, <agent.RandomAgent object at 0x000001EDFD69F9B0>: 0 wins\n",
      "depth: 5, <agent.VaudOpenAgent object at 0x000001ED9FDA7080>: 94 wins\n",
      "------------------------------------------------------------\n",
      "10:28:15, 10:33:28\n",
      "------------------------------------------------------------\n",
      "depth: 1, <agent.VaudOpenAgent object at 0x000001ED9F646390>: 92 wins\n",
      "depth: 0, <agent.RandomAgent object at 0x000001EDFD69F9B0>: 0 wins\n",
      "------------------------------------------------------------\n",
      "10:33:30, "
     ]
    }
   ],
   "source": [
    "board = chess.Board()\n",
    "rand_bot = RandomAgent(board)\n",
    "d0_bot = VaudOpenAgent(board, depth=0)\n",
    "d1_bot = VaudOpenAgent(board, depth=1)\n",
    "d2_bot = VaudOpenAgent(board, depth=2)\n",
    "d3_bot = VaudOpenAgent(board, depth=3)\n",
    "d4_bot = VaudOpenAgent(board, depth=4)\n",
    "\n",
    "d0_bot_no_db = VaudOpenAgent(board, depth=0, db_paths=[])\n",
    "d1_bot_no_db = VaudOpenAgent(board, depth=1, db_paths=[])\n",
    "d2_bot_no_db = VaudOpenAgent(board, depth=2, db_paths=[])\n",
    "d3_bot_no_db = VaudOpenAgent(board, depth=3, db_paths=[])\n",
    "d4_bot_no_db = VaudOpenAgent(board, depth=4, db_paths=[])\n",
    "jim = Gym(board, turn_limit=50)\n",
    "\n",
    "rand_state_df = pd.read_csv(\"state_db.csv\")\n",
    "for i, bot_a in enumerate([rand_bot, d0_bot, d1_bot, d2_bot, d3_bot, d4_bot]):\n",
    "    for j, bot_b in enumerate([rand_bot, d0_bot_no_db, d1_bot_no_db, d2_bot_no_db, d3_bot_no_db, d4_bot_no_db]):\n",
    "        print(\"-\"*60)\n",
    "        print(datetime.datetime.now().strftime(\"%H:%M:%S\"), end=\", \")\n",
    "        score, (agent_1_wins, agent_2_wins), all_state_df = jim.tournament(bot_a, bot_b, num_games_white=50, show=False, save=True)\n",
    "        print(datetime.datetime.now().strftime(\"%H:%M:%S\"))\n",
    "        print(\"-\"*60)\n",
    "        print(f\"depth: {i}, {bot_a}: {agent_1_wins} wins\")\n",
    "        print(f\"depth: {j}, {bot_b}: {agent_2_wins} wins\")\n",
    "        rand_state_df = pd.concat((rand_state_df, all_state_df), axis=0)\n",
    "        rand_state_df.to_csv(\"state_db.csv\", index=False)\n",
    "rand_state_df"
   ]
  },
  {
   "cell_type": "code",
   "execution_count": null,
   "metadata": {},
   "outputs": [],
   "source": [
    "test_board = chess.Board(fen=\"rB2kbnr/1p2ppp1/p1p4p/3p4/q2P2Q1/2N1P3/PPP2P1P/R3KBNR w KQkq - 1 8\")\n",
    "test_board"
   ]
  },
  {
   "cell_type": "code",
   "execution_count": null,
   "metadata": {},
   "outputs": [],
   "source": [
    "# get_random_moves(test_board)"
   ]
  },
  {
   "cell_type": "code",
   "execution_count": null,
   "metadata": {},
   "outputs": [],
   "source": [
    "print(negamax_alpha_beta(test_board, 1, 1, -99, 99, 0))"
   ]
  },
  {
   "cell_type": "code",
   "execution_count": null,
   "metadata": {},
   "outputs": [],
   "source": [
    "print(negamax_score_r(test_board, 1, 1, 0))"
   ]
  },
  {
   "cell_type": "code",
   "execution_count": null,
   "metadata": {},
   "outputs": [],
   "source": []
  },
  {
   "cell_type": "code",
   "execution_count": null,
   "metadata": {},
   "outputs": [],
   "source": []
  },
  {
   "cell_type": "code",
   "execution_count": null,
   "metadata": {},
   "outputs": [],
   "source": [
    "jim.game(d1_bot, rand_bot, show=True)"
   ]
  },
  {
   "cell_type": "code",
   "execution_count": null,
   "metadata": {},
   "outputs": [],
   "source": [
    "jim.board"
   ]
  },
  {
   "cell_type": "code",
   "execution_count": null,
   "metadata": {},
   "outputs": [],
   "source": [
    "jim.board.is_stalemate()"
   ]
  },
  {
   "cell_type": "code",
   "execution_count": null,
   "metadata": {},
   "outputs": [],
   "source": [
    "score_board(jim.board), score_board(jim.board.mirror())"
   ]
  },
  {
   "cell_type": "code",
   "execution_count": null,
   "metadata": {},
   "outputs": [],
   "source": [
    "[m for m in jim.board.legal_moves if check_first(jim.board, m)]"
   ]
  },
  {
   "cell_type": "code",
   "execution_count": null,
   "metadata": {},
   "outputs": [],
   "source": [
    "print(jim.board.fen())"
   ]
  },
  {
   "cell_type": "code",
   "execution_count": null,
   "metadata": {},
   "outputs": [],
   "source": [
    "# jim.board.pop()"
   ]
  },
  {
   "cell_type": "code",
   "execution_count": null,
   "metadata": {},
   "outputs": [],
   "source": [
    "\n",
    "print(negamax_alpha_beta(jim.board, 1, 1, -99, 99, 0))\n",
    "print(negamax_alpha_beta(jim.board, 2, 1, -99, 99, 0))"
   ]
  },
  {
   "cell_type": "code",
   "execution_count": null,
   "metadata": {},
   "outputs": [],
   "source": [
    "print(negamax_score(jim.board, 1, 1, 0))\n",
    "print(negamax_score(jim.board, 2, 1, 0))\n",
    "# print(negamax_score(jim.board, 3, 1, 0))"
   ]
  },
  {
   "cell_type": "code",
   "execution_count": null,
   "metadata": {},
   "outputs": [],
   "source": [
    "print(negamax_score_r(jim.board, 1, 1, 0))\n",
    "print(negamax_score_r(jim.board, 2, 1, 0))\n",
    "# print(negamax_score_r(jim.board, 3, 1, 0))"
   ]
  },
  {
   "cell_type": "code",
   "execution_count": null,
   "metadata": {},
   "outputs": [],
   "source": [
    "128/111388"
   ]
  },
  {
   "cell_type": "code",
   "execution_count": null,
   "metadata": {},
   "outputs": [],
   "source": [
    "(\n",
    "    print(negamax_alpha_beta(jim.board, 1, 1, -99, 99, 0)),\n",
    "    print(negamax_alpha_beta(jim.board, 2, 1, -99, 99, 0)), \n",
    "    print(negamax_alpha_beta(jim.board, 3, 1, -99, 99, 0)),\n",
    "    print(negamax_alpha_beta(jim.board, 4, 1, -99, 99, 0)), \n",
    "    print(negamax_alpha_beta(jim.board, 5, 1, -99, 99, 0)),\n",
    "    # negamax_alpha_beta(jim.board, 6, 1, -99, 99, 0), \n",
    "    # negamax_alpha_beta(jim.board, 7, 1, -99, 99, 0),\n",
    ")"
   ]
  },
  {
   "cell_type": "code",
   "execution_count": null,
   "metadata": {},
   "outputs": [],
   "source": [
    "jim.tournament(rand_bot, d1_bot, num_games_white=5, show=False, save=False)"
   ]
  },
  {
   "cell_type": "code",
   "execution_count": null,
   "metadata": {},
   "outputs": [],
   "source": [
    "jim.tournament(d1_bot, d2_bot, num_games_white=5, show=False, save=False)"
   ]
  },
  {
   "cell_type": "code",
   "execution_count": null,
   "metadata": {},
   "outputs": [],
   "source": [
    "jim.tournament(d2_bot, d3_bot, num_games_white=5, show=False, save=False)"
   ]
  },
  {
   "cell_type": "code",
   "execution_count": null,
   "metadata": {},
   "outputs": [],
   "source": [
    "jim.tournament(d3_bot, d4_bot, num_games_white=5, show=False, save=False)"
   ]
  },
  {
   "cell_type": "code",
   "execution_count": null,
   "metadata": {},
   "outputs": [],
   "source": [
    "jim.tournament(rand_bot, d3_bot, num_games_white=5, show=False, save=False)"
   ]
  },
  {
   "cell_type": "code",
   "execution_count": null,
   "metadata": {},
   "outputs": [],
   "source": [
    "jim.tournament(rand_bot, d4_bot, num_games_white=5, show=False, save=False)"
   ]
  },
  {
   "cell_type": "code",
   "execution_count": null,
   "metadata": {},
   "outputs": [],
   "source": [
    "score, state_df = jim.game(white_bot, black_bot, show=False, save=False)"
   ]
  },
  {
   "cell_type": "code",
   "execution_count": null,
   "metadata": {},
   "outputs": [],
   "source": [
    "jim.board"
   ]
  },
  {
   "cell_type": "code",
   "execution_count": null,
   "metadata": {},
   "outputs": [],
   "source": [
    "len(jim.board.move_stack)"
   ]
  },
  {
   "cell_type": "code",
   "execution_count": null,
   "metadata": {},
   "outputs": [],
   "source": [
    "# jim.board.pop()"
   ]
  },
  {
   "cell_type": "code",
   "execution_count": null,
   "metadata": {},
   "outputs": [],
   "source": [
    "[str(m) for m in jim.board.legal_moves]"
   ]
  },
  {
   "cell_type": "code",
   "execution_count": null,
   "metadata": {},
   "outputs": [],
   "source": [
    "jim.board"
   ]
  },
  {
   "cell_type": "code",
   "execution_count": null,
   "metadata": {},
   "outputs": [],
   "source": [
    "negamax_score(jim.board, 1, 1)"
   ]
  },
  {
   "cell_type": "code",
   "execution_count": null,
   "metadata": {},
   "outputs": [],
   "source": [
    "\n",
    "print(tensor_to_str_board(int_list_to_tensor(state_df.iloc[3, 0])))\n",
    "print(tensor_to_str_board(flip_tensor(int_list_to_tensor(state_df.iloc[3, 0]))))\n"
   ]
  },
  {
   "cell_type": "code",
   "execution_count": null,
   "metadata": {},
   "outputs": [],
   "source": [
    "# jim.board.pop()\n",
    "print(score_board(jim.board))\n",
    "jim.board"
   ]
  },
  {
   "cell_type": "code",
   "execution_count": null,
   "metadata": {},
   "outputs": [],
   "source": [
    "score, human_df = jim.human_human_game(save=True)\n",
    "human_df = human_df[human_df[\"color\"] == 0]\n",
    "path = \"opening_db\\\\vaud_vs_rand.csv\"\n",
    "df = human_df\n",
    "\n",
    "add_df_to_db(path, df)\n",
    "human_df"
   ]
  },
  {
   "cell_type": "code",
   "execution_count": null,
   "metadata": {},
   "outputs": [],
   "source": []
  },
  {
   "cell_type": "code",
   "execution_count": null,
   "metadata": {},
   "outputs": [],
   "source": [
    "score, human_df = jim.human_game(RandomAgent(chess.Board()), save=True)\n",
    "human_df = human_df[human_df[\"player\"] == \"human\"]\n",
    "path = \"opening_db\\\\vaud_vs_rand.csv\"\n",
    "df = human_df\n",
    "\n",
    "add_df_to_db(path, df)\n",
    "human_df"
   ]
  },
  {
   "cell_type": "code",
   "execution_count": null,
   "metadata": {},
   "outputs": [],
   "source": [
    "# human_df.to_csv(\"opening_db\\\\vaud_vs_rand.csv\", index=False)"
   ]
  },
  {
   "cell_type": "code",
   "execution_count": null,
   "metadata": {},
   "outputs": [],
   "source": []
  },
  {
   "cell_type": "code",
   "execution_count": null,
   "metadata": {},
   "outputs": [],
   "source": [
    "\n",
    "\n",
    "board_state = board_to_tensor(jim.board)\n",
    "board_str = board_to_str(jim.board)\n",
    "board_list = board_to_int_list(jim.board)\n",
    "board_state.shape"
   ]
  },
  {
   "cell_type": "code",
   "execution_count": null,
   "metadata": {},
   "outputs": [],
   "source": [
    "board_list"
   ]
  },
  {
   "cell_type": "code",
   "execution_count": null,
   "metadata": {},
   "outputs": [],
   "source": [
    "b = tensor_to_int_list(int_list_to_tensor(board_list))\n",
    "b"
   ]
  },
  {
   "cell_type": "code",
   "execution_count": null,
   "metadata": {},
   "outputs": [],
   "source": [
    "str(tensor_to_int_list(int_list_to_tensor(board_list))[0]).replace(\",\", \"\").replace(\" \", \"\").replace(\".\", \"\").replace(\"\\n\", \"\").replace(\"[\", \"\").replace(\"]\", \"\")"
   ]
  },
  {
   "cell_type": "code",
   "execution_count": null,
   "metadata": {},
   "outputs": [],
   "source": [
    "db = {tuple(board_list): \"a\"}\n",
    "db*2"
   ]
  },
  {
   "cell_type": "code",
   "execution_count": null,
   "metadata": {},
   "outputs": [],
   "source": [
    "from sys import getsizeof"
   ]
  },
  {
   "cell_type": "code",
   "execution_count": null,
   "metadata": {},
   "outputs": [],
   "source": [
    "a = [1, 1, 1, 1, 1, 1, 1, 1, 1, 1, 1, 1]"
   ]
  },
  {
   "cell_type": "code",
   "execution_count": null,
   "metadata": {},
   "outputs": [],
   "source": [
    "getsizeof(board_state), getsizeof(board_str), getsizeof(board_list), getsizeof(a)"
   ]
  },
  {
   "cell_type": "code",
   "execution_count": null,
   "metadata": {},
   "outputs": [],
   "source": [
    "12*8*8 "
   ]
  },
  {
   "cell_type": "code",
   "execution_count": null,
   "metadata": {},
   "outputs": [],
   "source": [
    "print(\"TensorFlow version:\", tf.__version__)"
   ]
  },
  {
   "cell_type": "code",
   "execution_count": null,
   "metadata": {},
   "outputs": [],
   "source": [
    "from tensorflow.keras.layers import Dense, Flatten, Conv2D\n",
    "from tensorflow.keras import Model"
   ]
  },
  {
   "cell_type": "code",
   "execution_count": null,
   "metadata": {},
   "outputs": [],
   "source": []
  },
  {
   "cell_type": "code",
   "execution_count": null,
   "metadata": {},
   "outputs": [],
   "source": [
    "np.frombuffer(np.binary_repr(wp_mask), dtype=)"
   ]
  },
  {
   "cell_type": "code",
   "execution_count": null,
   "metadata": {},
   "outputs": [],
   "source": [
    "jim.tournament(white_bot, black_bot, num_games_white=50)"
   ]
  },
  {
   "cell_type": "code",
   "execution_count": null,
   "metadata": {},
   "outputs": [],
   "source": [
    "# jim.board"
   ]
  },
  {
   "cell_type": "code",
   "execution_count": null,
   "metadata": {},
   "outputs": [],
   "source": []
  },
  {
   "cell_type": "code",
   "execution_count": null,
   "metadata": {},
   "outputs": [],
   "source": [
    "\n",
    "# jim.human_game(VaudOpenAgent(board))\n"
   ]
  },
  {
   "cell_type": "code",
   "execution_count": null,
   "metadata": {},
   "outputs": [],
   "source": [
    "\n",
    "# board.push_san(\"a7a8\")\n",
    "# board.push_san(white_bot.move())\n",
    "jim.board"
   ]
  },
  {
   "cell_type": "code",
   "execution_count": null,
   "metadata": {},
   "outputs": [],
   "source": [
    "(1 % 2) * 2 - 1"
   ]
  },
  {
   "cell_type": "code",
   "execution_count": null,
   "metadata": {},
   "outputs": [],
   "source": [
    "board.outcome(claim_draw=True).winner"
   ]
  },
  {
   "cell_type": "code",
   "execution_count": null,
   "metadata": {},
   "outputs": [],
   "source": [
    "len(board.pieces(chess.ROOK, chess.WHITE))"
   ]
  },
  {
   "cell_type": "code",
   "execution_count": null,
   "metadata": {},
   "outputs": [],
   "source": []
  },
  {
   "cell_type": "code",
   "execution_count": null,
   "metadata": {},
   "outputs": [],
   "source": [
    "# [print(f\"{move}\\n\") for move in board.legal_moves]"
   ]
  },
  {
   "cell_type": "code",
   "execution_count": null,
   "metadata": {},
   "outputs": [],
   "source": [
    "str(board.peek())"
   ]
  },
  {
   "cell_type": "code",
   "execution_count": null,
   "metadata": {},
   "outputs": [],
   "source": []
  }
 ],
 "metadata": {
  "kernelspec": {
   "display_name": "chess",
   "language": "python",
   "name": "python3"
  },
  "language_info": {
   "codemirror_mode": {
    "name": "ipython",
    "version": 3
   },
   "file_extension": ".py",
   "mimetype": "text/x-python",
   "name": "python",
   "nbconvert_exporter": "python",
   "pygments_lexer": "ipython3",
   "version": "3.12.7"
  }
 },
 "nbformat": 4,
 "nbformat_minor": 2
}
